





#1. Importing pandas
import pandas as pd


# 2. Show imported version
pd.__version__


# 3. Print out all the version information
pd.show_versions()





# Creating some dummy data
import numpy as np
import string

data = {
    'animal': ['cat', 'cat', 'snake', 'dog', 'dog', 'cat', 'snake', 'cat', 'dog', 'dog'],
    'age': [2.5, 3, 0.5, np.nan, 5, 2, 4.5, np.nan, 7, 3],
    'visits': [1, 3, 2, 3, 2, 3, 1, 1, 2, 1],
    'priority': ['yes', 'yes', 'no', 'yes', 'no', 'no', 'no', 'yes', 'no', 'no'],
}

labels = list(string.ascii_lowercase)[:10]


# 4. Create a DataFrame df from the above dictionary which has the index labels
df = pd.DataFrame(data=data, index=labels)


# 5. Display summary of basic information about this DataFrame and its data
df.info()


# 6. Return the first 3 rows of the DataFrame
df.head(3) # Way 1
df.iloc[:3] # Way 2


# 7. Select just the 'animal' and 'age' columns from the DataFrame df
df[['animal', 'age']] # Way one
df.loc[:, ['animal', 'age']] # Way 2


# 8. Select the data in rows [3, 4, 8]
